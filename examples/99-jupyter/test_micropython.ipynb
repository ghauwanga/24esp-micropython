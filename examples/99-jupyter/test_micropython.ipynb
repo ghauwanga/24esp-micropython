{
 "cells": [
  {
   "attachments": {},
   "cell_type": "markdown",
   "id": "9f2bc57f-dc1e-48c7-9649-d7da9f0d1ace",
   "metadata": {},
   "source": [
    "# Basic MicroPython usage\n",
    "\n",
    "To run the current cell, use `Ctrl+Enter` shortcut."
   ]
  },
  {
   "cell_type": "code",
   "execution_count": 1,
   "id": "2f65e7e1-6a92-4816-acf7-7359e9bca380",
   "metadata": {},
   "outputs": [
    {
     "name": "stdout",
     "output_type": "stream",
     "text": [
      "\u001b[34mConnecting to --port=/dev/ttyUSB0 --baud=115200 \u001b[0m\n",
      "\u001b[34mReady.\n",
      "\u001b[0m"
     ]
    }
   ],
   "source": [
    "# Connect to a MicroPython device over USB\n",
    "# (Select your port if needed)\n",
    "%serialconnect --port /dev/ttyUSB0"
   ]
  },
  {
   "cell_type": "code",
   "execution_count": null,
   "id": "c4536d8d-f06d-4d74-8130-60347a8efef6",
   "metadata": {},
   "outputs": [],
   "source": [
    "# List basic help\n",
    "help()"
   ]
  },
  {
   "cell_type": "code",
   "execution_count": null,
   "id": "e561570e-7d54-40ea-9409-669f81231b9f",
   "metadata": {},
   "outputs": [],
   "source": [
    "# Load `Pin` class from `machine` module in order to access the hardware\n",
    "from machine import Pin\n",
    "\n",
    "# Define pin 2 as output\n",
    "led = Pin(2, Pin.OUT)\n",
    "# Define value of \"led\" as \"1\" or \"True\" to turn on the LED\n",
    "led.on()\n",
    "# led.value(1)\n",
    "# led.value(True)"
   ]
  },
  {
   "cell_type": "code",
   "execution_count": null,
   "id": "f88b2ba0-3728-4d14-a336-a76851ae0178",
   "metadata": {},
   "outputs": [],
   "source": [
    "# Define value of \"led\" as \"0\" or \"False\" to turn off the LED\n",
    "led.off()\n",
    "# led.value(0)\n",
    "# led.value(False)"
   ]
  },
  {
   "attachments": {},
   "cell_type": "markdown",
   "id": "069925e5-4520-4c2c-b613-2a103e46d5a6",
   "metadata": {},
   "source": [
    "## Blinking the LED"
   ]
  },
  {
   "cell_type": "code",
   "execution_count": null,
   "id": "e376e437-af86-4b45-a473-5dee4649b5ef",
   "metadata": {},
   "outputs": [],
   "source": [
    "from machine import Pin\n",
    "from time import sleep_ms\n",
    "\n",
    "led = Pin(2, Pin.OUT)\n",
    "\n",
    "print(\"Blink LED ten times\", end=\"\")\n",
    "for i in range(10):\n",
    "    led.on()\n",
    "    print(\".\", end=\"\")\n",
    "    sleep_ms(125)\n",
    "    led.off()\n",
    "    sleep_ms(875)\n",
    "\n",
    "print(\" Done\")"
   ]
  },
  {
   "attachments": {},
   "cell_type": "markdown",
   "id": "844f3341-d22e-4dec-b8d6-260ac079f3e9",
   "metadata": {},
   "source": [
    "## Other useful commands\n",
    "\n",
    "You can list all the kernel functions with:\n",
    "```python\n",
    "%lsmagic\n",
    "```\n",
    "\n",
    "List all files stored in MicroPython device:\n",
    "```python\n",
    "import os\n",
    "print(os.listdir())\n",
    "```"
   ]
  },
  {
   "attachments": {},
   "cell_type": "markdown",
   "id": "989646bd-fe2e-4faa-95af-e7acab1aa141",
   "metadata": {},
   "source": [
    "## References\n",
    "\n",
    "1. Marcelo Rovai. [MicroPython on ESP Using Jupyter Notebook](https://towardsdatascience.com/micropython-on-esp-using-jupyter-6f366ff5ed9)\n",
    "2. [Wprowadzenie do micropython na esp8266/esp8265](https://home.agh.edu.pl/~romanf/Wprowadzenie_do_IoT/_build/html/esp8266_mqtt_z_zajec.html)"
   ]
  }
 ],
 "metadata": {
  "kernelspec": {
   "display_name": "MicroPython - USB",
   "language": "micropython",
   "name": "micropython"
  },
  "language_info": {
   "codemirror_mode": "python",
   "file_extension": ".py",
   "mimetype": "text/python",
   "name": "micropython"
  }
 },
 "nbformat": 4,
 "nbformat_minor": 5
}
